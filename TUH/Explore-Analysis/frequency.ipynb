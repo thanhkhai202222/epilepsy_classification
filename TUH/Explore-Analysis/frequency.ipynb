{
 "cells": [
  {
   "cell_type": "code",
   "execution_count": 12,
   "metadata": {},
   "outputs": [
    {
     "name": "stdout",
     "output_type": "stream",
     "text": [
      "Automatically created module for IPython interactive environment\n"
     ]
    }
   ],
   "source": [
    "import numpy as np\n",
    "import matplotlib.pyplot as plt\n",
    "\n",
    "import mne\n",
    "from mne.time_frequency  import psd_array_multitaper\n",
    "from mne.io import RawArray\n",
    "from mne.time_frequency import tfr_array_morlet\n",
    "\n",
    "print(__doc__)"
   ]
  },
  {
   "cell_type": "code",
   "execution_count": 14,
   "metadata": {},
   "outputs": [],
   "source": [
    "epilepsy = \"epilepsy/aaaaaanr_s001_t001.edf\"\n",
    "no_epilepsy = \"no_epilepsy/aaaaaebo_s001_t000.edf\""
   ]
  },
  {
   "cell_type": "code",
   "execution_count": 15,
   "metadata": {},
   "outputs": [
    {
     "name": "stdout",
     "output_type": "stream",
     "text": [
      "Extracting EDF parameters from d:\\FGW\\EDF\\v2.0.1_new\\epilepsy\\aaaaaanr_s001_t001.edf...\n",
      "EDF file detected\n",
      "Setting channel info structure...\n",
      "Creating raw.info structure...\n",
      "Reading 0 ... 303499  =      0.000 ...  1213.996 secs...\n",
      "Extracting EDF parameters from d:\\FGW\\EDF\\v2.0.1_new\\no_epilepsy\\aaaaaebo_s001_t000.edf...\n",
      "EDF file detected\n",
      "Setting channel info structure...\n",
      "Creating raw.info structure...\n",
      "Reading 0 ... 318749  =      0.000 ...  1274.996 secs...\n"
     ]
    }
   ],
   "source": [
    "raw1 = mne.io.read_raw_edf(epilepsy, preload=True)\n",
    "raw2 = mne.io.read_raw_edf(no_epilepsy, preload=True)"
   ]
  },
  {
   "cell_type": "code",
   "execution_count": 19,
   "metadata": {},
   "outputs": [],
   "source": [
    "channel_index = 4"
   ]
  },
  {
   "cell_type": "code",
   "execution_count": 20,
   "metadata": {},
   "outputs": [],
   "source": [
    "channel_data1 = raw1.get_data(picks=[channel_index])\n",
    "channel_data2 = raw2.get_data(picks=[channel_index])"
   ]
  },
  {
   "cell_type": "code",
   "execution_count": 18,
   "metadata": {},
   "outputs": [
    {
     "name": "stdout",
     "output_type": "stream",
     "text": [
      "Filtering raw data in 1 contiguous segment\n",
      "Setting up band-pass filter from 10 - 50 Hz\n",
      "\n",
      "IIR filter parameters\n",
      "---------------------\n",
      "Butterworth bandpass zero-phase (two-pass forward and reverse) non-causal filter:\n",
      "- Filter order 16 (effective, after forward-backward)\n",
      "- Cutoffs at 10.00, 50.00 Hz: -6.02, -6.02 dB\n",
      "\n",
      "Filtering raw data in 1 contiguous segment\n",
      "Setting up band-pass filter from 10 - 50 Hz\n",
      "\n",
      "IIR filter parameters\n",
      "---------------------\n",
      "Butterworth bandpass zero-phase (two-pass forward and reverse) non-causal filter:\n",
      "- Filter order 16 (effective, after forward-backward)\n",
      "- Cutoffs at 10.00, 50.00 Hz: -6.02, -6.02 dB\n",
      "\n",
      "Filtering raw data in 1 contiguous segment\n",
      "Setting up band-stop filter from 49 - 51 Hz\n",
      "\n",
      "IIR filter parameters\n",
      "---------------------\n",
      "Butterworth bandstop zero-phase (two-pass forward and reverse) non-causal filter:\n",
      "- Filter order 16 (effective, after forward-backward)\n",
      "- Cutoffs at 49.38, 50.62 Hz: -6.02, -6.02 dB\n",
      "\n",
      "Filtering raw data in 1 contiguous segment\n",
      "Setting up band-stop filter from 49 - 51 Hz\n",
      "\n",
      "IIR filter parameters\n",
      "---------------------\n",
      "Butterworth bandstop zero-phase (two-pass forward and reverse) non-causal filter:\n",
      "- Filter order 16 (effective, after forward-backward)\n",
      "- Cutoffs at 49.38, 50.62 Hz: -6.02, -6.02 dB\n",
      "\n",
      "Fitting ICA to data using 33 channels (please be patient, this may take a while)\n",
      "Selecting by number: 4 components\n",
      "Fitting ICA took 1.0s.\n",
      "Applying ICA to Raw instance\n",
      "    Transforming to ICA space (4 components)\n",
      "    Zeroing out 0 ICA components\n",
      "    Projecting back using 33 PCA components\n",
      "Fitting ICA to data using 41 channels (please be patient, this may take a while)\n"
     ]
    },
    {
     "name": "stderr",
     "output_type": "stream",
     "text": [
      "C:\\Users\\PC\\AppData\\Local\\Temp\\ipykernel_8176\\759497846.py:8: RuntimeWarning: Using n_components=4 (resulting in n_components_=4) may lead to an unstable mixing matrix estimation because the ratio between the largest (33) and smallest (1.6e-10) variances is too large (> 1e6); consider setting n_components=0.999999 or an integer <= 1\n",
      "  ica.fit(raw1)\n"
     ]
    },
    {
     "name": "stdout",
     "output_type": "stream",
     "text": [
      "Selecting by number: 4 components\n",
      "Fitting ICA took 1.2s.\n",
      "Applying ICA to Raw instance\n",
      "    Transforming to ICA space (4 components)\n",
      "    Zeroing out 0 ICA components\n",
      "    Projecting back using 41 PCA components\n"
     ]
    },
    {
     "name": "stderr",
     "output_type": "stream",
     "text": [
      "C:\\Users\\PC\\AppData\\Local\\Temp\\ipykernel_8176\\759497846.py:11: RuntimeWarning: Using n_components=4 (resulting in n_components_=4) may lead to an unstable mixing matrix estimation because the ratio between the largest (41) and smallest (1.3e-08) variances is too large (> 1e6); consider setting n_components=0.999999 or an integer <= 1\n",
      "  ica.fit(raw2)\n"
     ]
    },
    {
     "data": {
      "text/html": [
       "<details open>\n",
       "    <summary><strong>General</strong></summary>\n",
       "    <table class=\"table table-hover table-striped table-sm table-responsive small\">\n",
       "        <tr>\n",
       "            <th>Measurement date</th>\n",
       "            \n",
       "            <td>January 01, 2006  00:00:00 GMT</td>\n",
       "            \n",
       "        </tr>\n",
       "        <tr>\n",
       "            <th>Experimenter</th>\n",
       "            \n",
       "            <td>Unknown</td>\n",
       "            \n",
       "        </tr>\n",
       "        <tr>\n",
       "            <th>Participant</th>\n",
       "            \n",
       "            \n",
       "            <td>aaaaaebo</td>\n",
       "            \n",
       "            \n",
       "        </tr>\n",
       "    </table>\n",
       "    </details>\n",
       "    <details open>\n",
       "        <summary><strong>Channels</strong></summary>\n",
       "        <table class=\"table table-hover table-striped table-sm table-responsive small\">\n",
       "            <tr>\n",
       "                <th>Digitized points</th>\n",
       "                \n",
       "                <td>Not available</td>\n",
       "                \n",
       "            </tr>\n",
       "            <tr>\n",
       "                <th>Good channels</th>\n",
       "                <td>41 EEG</td>\n",
       "            </tr>\n",
       "            <tr>\n",
       "                <th>Bad channels</th>\n",
       "                <td>None</td>\n",
       "            </tr>\n",
       "            <tr>\n",
       "                <th>EOG channels</th>\n",
       "                <td>Not available</td>\n",
       "            </tr>\n",
       "            <tr>\n",
       "                <th>ECG channels</th>\n",
       "                <td>Not available</td>\n",
       "            </tr>\n",
       "        </table>\n",
       "        </details>\n",
       "        <details open>\n",
       "            <summary><strong>Data</strong></summary>\n",
       "            <table class=\"table table-hover table-striped table-sm table-responsive small\">\n",
       "                \n",
       "                <tr>\n",
       "                    <th>Sampling frequency</th>\n",
       "                    <td>250.00 Hz</td>\n",
       "                </tr>\n",
       "                \n",
       "                \n",
       "                <tr>\n",
       "                    <th>Highpass</th>\n",
       "                    <td>10.00 Hz</td>\n",
       "                </tr>\n",
       "                \n",
       "                \n",
       "                <tr>\n",
       "                    <th>Lowpass</th>\n",
       "                    <td>50.00 Hz</td>\n",
       "                </tr>\n",
       "                \n",
       "                \n",
       "                \n",
       "                <tr>\n",
       "                    <th>Filenames</th>\n",
       "                    <td>aaaaaebo_s001_t000.edf</td>\n",
       "                </tr>\n",
       "                \n",
       "                \n",
       "                <tr>\n",
       "                    <th>Duration</th>\n",
       "                    <td>00:21:15 (HH:MM:SS)</td>\n",
       "                </tr>\n",
       "                \n",
       "            </table>\n",
       "            </details>"
      ],
      "text/plain": [
       "<RawEDF | aaaaaebo_s001_t000.edf, 41 x 318750 (1275.0 s), ~99.7 MB, data loaded>"
      ]
     },
     "execution_count": 18,
     "metadata": {},
     "output_type": "execute_result"
    }
   ],
   "source": [
    "raw1.filter(10,50, method=\"iir\")\n",
    "raw2.filter(10,50, method=\"iir\")\n",
    "\n",
    "raw1.notch_filter(freqs=[50], method='iir')\n",
    "raw2.notch_filter(freqs=[50], method='iir')\n",
    "\n",
    "ica = mne.preprocessing.ICA(n_components=4, max_iter='auto', random_state=0)\n",
    "ica.fit(raw1)\n",
    "ica.apply(raw1)\n",
    "\n",
    "ica.fit(raw2)\n",
    "ica.apply(raw2)\n",
    "\n",
    "\n",
    "# Apply SSP to remove remaining artifacts\n",
    "# raw1.apply_proj()"
   ]
  },
  {
   "cell_type": "code",
   "execution_count": 21,
   "metadata": {},
   "outputs": [],
   "source": [
    "sfreq1 = raw1.info['sfreq']\n",
    "sfreq2 = raw2.info['sfreq']"
   ]
  },
  {
   "cell_type": "code",
   "execution_count": 22,
   "metadata": {},
   "outputs": [
    {
     "name": "stdout",
     "output_type": "stream",
     "text": [
      "    Using multitaper spectrum estimation with 1 DPSS windows\n"
     ]
    },
    {
     "name": "stderr",
     "output_type": "stream",
     "text": [
      "C:\\Users\\PC\\AppData\\Local\\Temp\\ipykernel_8176\\1431096846.py:1: RuntimeWarning: Could not properly use low_bias, keeping lowest-bias taper\n",
      "  psd1, freqs1 = mne.time_frequency.psd_array_multitaper(channel_data1[0], sfreq1, fmin=1, fmax=500)\n"
     ]
    },
    {
     "name": "stdout",
     "output_type": "stream",
     "text": [
      "    Using multitaper spectrum estimation with 1 DPSS windows\n"
     ]
    },
    {
     "name": "stderr",
     "output_type": "stream",
     "text": [
      "C:\\Users\\PC\\AppData\\Local\\Temp\\ipykernel_8176\\1431096846.py:2: RuntimeWarning: Could not properly use low_bias, keeping lowest-bias taper\n",
      "  psd2, freqs2 = mne.time_frequency.psd_array_multitaper(channel_data2[0], sfreq2, fmin=1, fmax=500)\n"
     ]
    }
   ],
   "source": [
    "psd1, freqs1 = mne.time_frequency.psd_array_multitaper(channel_data1[0], sfreq1, fmin=1, fmax=500)\n",
    "psd2, freqs2 = mne.time_frequency.psd_array_multitaper(channel_data2[0], sfreq2, fmin=1, fmax=500)"
   ]
  },
  {
   "cell_type": "code",
   "execution_count": 23,
   "metadata": {},
   "outputs": [
    {
     "data": {
      "image/png": "[encoded data removed]",
      "text/plain": [
       "<Figure size 640x480 with 1 Axes>"
      ]
     },
     "metadata": {},
     "output_type": "display_data"
    }
   ],
   "source": [
    "# plt.figure(figsize=(20, 5))\n",
    "\n",
    "# plt.plot(freqs1, psd1, label=f\"File 1\", linestyle='--')\n",
    "# plt.plot(freqs2, psd2, label=f\"File 2\", linestyle='-')\n",
    "\n",
    "plt.plot(freqs1, psd1, label=f\"Epilepsy\")\n",
    "plt.plot(freqs2, psd2, label=f\"Non Epilepsy\")\n",
    "\n",
    "\n",
    "plt.xlabel(\"Frequency (Hz)\")\n",
    "plt.ylabel(\"Power\")\n",
    "plt.legend()\n",
    "\n",
    "# plt.axvline(x=peak_freq1_value, color='red', linestyle='-', label=f\"Peak 1: {peak_freq1_value:.2f} Hz\")\n",
    "# plt.axvline(x=peak_freq2_value, color='blue', linestyle='--', label=f\"Peak 2: {peak_freq2_value:.2f} Hz\")\n",
    "plt.legend()\n",
    "\n",
    "plt.show()"
   ]
  }
 ],
 "metadata": {
  "kernelspec": {
   "display_name": "Python 3",
   "language": "python",
   "name": "python3"
  },
  "language_info": {
   "codemirror_mode": {
    "name": "ipython",
    "version": 3
   },
   "file_extension": ".py",
   "mimetype": "text/x-python",
   "name": "python",
   "nbconvert_exporter": "python",
   "pygments_lexer": "ipython3",
   "version": "3.11.6"
  }
 },
 "nbformat": 4,
 "nbformat_minor": 2
}
